from fbprophet import Prophet
from sklearn.metrics import mean_absolute_error, mean_squared_error

# Split data into training and testing sets
train_data = df[:-n_test]
test_data = df[-n_test:]

# Fit the Prophet model
model = Prophet()
model.fit(train_data)

# Generate predictions
future = model.make_future_dataframe(periods=n_test)
forecast = model.predict(future)

# Compare predicted values with actual values
predictions = forecast[-n_test:]['yhat']
actual_values = test_data['y']

mae = mean_absolute_error(actual_values, predictions)
mse = mean_squared_error(actual_values, predictions)
rmse = np.sqrt(mse)

print(f"MAE: {mae}")
print(f"MSE: {mse}")
print(f"RMSE: {rmse}")